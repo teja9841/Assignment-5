{
 "cells": [
  {
   "cell_type": "markdown",
   "id": "ca05c3f8",
   "metadata": {},
   "source": [
    "# ASSIGNMENT 5"
   ]
  },
  {
   "cell_type": "markdown",
   "id": "32866d06",
   "metadata": {},
   "source": [
    "#### 1. Define a function which will return Max of three numbers "
   ]
  },
  {
   "cell_type": "code",
   "execution_count": 1,
   "id": "874a205f",
   "metadata": {},
   "outputs": [],
   "source": [
    "def maxy(x,y,z):\n",
    "    if x>y or x>z:\n",
    "        return x\n",
    "    elif y>x or y>z:\n",
    "        return y\n",
    "    elif z>x or z>y:\n",
    "        return z"
   ]
  },
  {
   "cell_type": "code",
   "execution_count": 2,
   "id": "dabfa8ae",
   "metadata": {},
   "outputs": [
    {
     "data": {
      "text/plain": [
       "8"
      ]
     },
     "execution_count": 2,
     "metadata": {},
     "output_type": "execute_result"
    }
   ],
   "source": [
    "maxy(8,6,4)"
   ]
  },
  {
   "cell_type": "markdown",
   "id": "94a8fb8e",
   "metadata": {},
   "source": [
    "#### 2. Define a Python Function to reverse a string."
   ]
  },
  {
   "cell_type": "code",
   "execution_count": 3,
   "id": "d600935e",
   "metadata": {},
   "outputs": [],
   "source": [
    "def reverse(s):\n",
    "    rev=s[::-1]\n",
    "    return rev"
   ]
  },
  {
   "cell_type": "code",
   "execution_count": 4,
   "id": "b4732b52",
   "metadata": {},
   "outputs": [
    {
     "data": {
      "text/plain": [
       "'SCITAMONNI'"
      ]
     },
     "execution_count": 4,
     "metadata": {},
     "output_type": "execute_result"
    }
   ],
   "source": [
    "reverse(\"INNOMATICS\")"
   ]
  },
  {
   "cell_type": "markdown",
   "id": "25994f6d",
   "metadata": {},
   "source": [
    "#### 3. Write a Python program to define a function that accepts 2 values and return its sum, subtraction and multiplication. "
   ]
  },
  {
   "cell_type": "code",
   "execution_count": 5,
   "id": "4c64baae",
   "metadata": {},
   "outputs": [],
   "source": [
    "def val(a,b):\n",
    "    return a+b,a-b,a*b"
   ]
  },
  {
   "cell_type": "code",
   "execution_count": 6,
   "id": "766e8c91",
   "metadata": {},
   "outputs": [
    {
     "data": {
      "text/plain": [
       "(5, -1, 6)"
      ]
     },
     "execution_count": 6,
     "metadata": {},
     "output_type": "execute_result"
    }
   ],
   "source": [
    "val(2,3)"
   ]
  },
  {
   "cell_type": "markdown",
   "id": "21bab5ee",
   "metadata": {},
   "source": [
    "#### 4. Define a function that accepts roll number and returns whether the student is present or absent."
   ]
  },
  {
   "cell_type": "code",
   "execution_count": 19,
   "id": "9303ae70",
   "metadata": {},
   "outputs": [],
   "source": [
    "students_info={1:\"Rajesh\",2:\"Siddu\",3:\"Ameem\",4:\"Keerthi\",5:\"Manoj\",6:\"Bhagya\"}\n",
    "def attendance(*rollnum):\n",
    "    keys=students_info.keys()\n",
    "    for num in keys:\n",
    "        if num in rollnum:\n",
    "            print(\"{} is present\".format(students_info[num]))\n",
    "        else:\n",
    "            print(\"{} is abscent\".format(students_info[num]))"
   ]
  },
  {
   "cell_type": "code",
   "execution_count": 21,
   "id": "f1fbb41a",
   "metadata": {},
   "outputs": [
    {
     "name": "stdout",
     "output_type": "stream",
     "text": [
      "Rajesh is present\n",
      "Siddu is present\n",
      "Ameem is abscent\n",
      "Keerthi is present\n",
      "Manoj is present\n",
      "Bhagya is abscent\n"
     ]
    }
   ],
   "source": [
    "attendance(1,2,4,5)"
   ]
  },
  {
   "cell_type": "markdown",
   "id": "d4838131",
   "metadata": {},
   "source": [
    "#### 5. Define a function in python that accepts n values and returns the maximum of n numbers"
   ]
  },
  {
   "cell_type": "code",
   "execution_count": 26,
   "id": "0efcf6ad",
   "metadata": {},
   "outputs": [],
   "source": [
    "def maxy(*num):\n",
    "    return \"Max num : {}\".format(max(num))"
   ]
  },
  {
   "cell_type": "code",
   "execution_count": 27,
   "id": "d918ddc0",
   "metadata": {},
   "outputs": [
    {
     "data": {
      "text/plain": [
       "'Max num : 99'"
      ]
     },
     "execution_count": 27,
     "metadata": {},
     "output_type": "execute_result"
    }
   ],
   "source": [
    "maxy(1,5,68,89,88,78,45,58,99)"
   ]
  },
  {
   "cell_type": "markdown",
   "id": "94f21186",
   "metadata": {},
   "source": [
    "#### 6. Define a function which counts vowels and consonant in a word."
   ]
  },
  {
   "cell_type": "code",
   "execution_count": 28,
   "id": "6921235c",
   "metadata": {},
   "outputs": [],
   "source": [
    "def syllable(s):\n",
    "    vowels=[\"A\",\"E\",\"I\",\"O\",\"U\",\"a\",\"e\",\"i\",\"o\",\"u\"]\n",
    "    v=0\n",
    "    c=0\n",
    "    for letters in s:\n",
    "        if letters in vowels:\n",
    "            v+=1\n",
    "        else:\n",
    "            c+=1\n",
    "    print(\"Total vowels in given string = {}\".format(v))\n",
    "    print(\"Total consonants in given string = {}\".format(c))"
   ]
  },
  {
   "cell_type": "code",
   "execution_count": 30,
   "id": "2ebe6c7a",
   "metadata": {},
   "outputs": [
    {
     "name": "stdout",
     "output_type": "stream",
     "text": [
      "Total vowels in given string = 10\n",
      "Total consonants in given string = 9\n"
     ]
    }
   ],
   "source": [
    "syllable(\"saippuakivikauppias\")"
   ]
  },
  {
   "cell_type": "markdown",
   "id": "6d7a61f6",
   "metadata": {},
   "source": [
    "#### 7. Define a function that returns Factorial of a number"
   ]
  },
  {
   "cell_type": "code",
   "execution_count": 32,
   "id": "a61fa4c7",
   "metadata": {},
   "outputs": [],
   "source": [
    "def factorial(num):\n",
    "    f=1\n",
    "    for num in range(1,num+1):\n",
    "        f*=num\n",
    "    return f"
   ]
  },
  {
   "cell_type": "code",
   "execution_count": 37,
   "id": "ae0fb386",
   "metadata": {},
   "outputs": [
    {
     "data": {
      "text/plain": [
       "120"
      ]
     },
     "execution_count": 37,
     "metadata": {},
     "output_type": "execute_result"
    }
   ],
   "source": [
    "factorial(5)"
   ]
  },
  {
   "cell_type": "markdown",
   "id": "f40d4947",
   "metadata": {},
   "source": [
    "#### 8. Define a function that accepts radius and returns the area of a circle."
   ]
  },
  {
   "cell_type": "code",
   "execution_count": 38,
   "id": "3873fba9",
   "metadata": {},
   "outputs": [],
   "source": [
    "def area(rad):\n",
    "    pi=22/7\n",
    "    return pi*(rad**2)"
   ]
  },
  {
   "cell_type": "code",
   "execution_count": 40,
   "id": "51a5e161",
   "metadata": {},
   "outputs": [
    {
     "data": {
      "text/plain": [
       "113.14285714285714"
      ]
     },
     "execution_count": 40,
     "metadata": {},
     "output_type": "execute_result"
    }
   ],
   "source": [
    "area(6)"
   ]
  },
  {
   "cell_type": "markdown",
   "id": "cf9d992e",
   "metadata": {},
   "source": [
    "#### 9. Define a function that takes a number as a parameter and check the number is prime or not.\n"
   ]
  },
  {
   "cell_type": "code",
   "execution_count": 4,
   "id": "db64309f",
   "metadata": {},
   "outputs": [],
   "source": [
    "def checkPrime(num):\n",
    "    if num==2 or num==3:\n",
    "        return \"{} is a prime number\".format(num)\n",
    "    for i in range(2,num-1):\n",
    "        if num%i!=0:\n",
    "            return \"{} is a prime number\".format(num)\n",
    "        else:\n",
    "            return \"The give number {} is not a prime number\".format(num)"
   ]
  },
  {
   "cell_type": "code",
   "execution_count": 61,
   "id": "707767da",
   "metadata": {},
   "outputs": [
    {
     "data": {
      "text/plain": [
       "'457 is a prime number'"
      ]
     },
     "execution_count": 61,
     "metadata": {},
     "output_type": "execute_result"
    }
   ],
   "source": [
    "checkPrime(457)"
   ]
  },
  {
   "cell_type": "code",
   "execution_count": 5,
   "id": "690eba5f",
   "metadata": {},
   "outputs": [
    {
     "data": {
      "text/plain": [
       "'The give number 6 is not a prime number'"
      ]
     },
     "execution_count": 5,
     "metadata": {},
     "output_type": "execute_result"
    }
   ],
   "source": [
    "checkPrime(6)"
   ]
  },
  {
   "cell_type": "markdown",
   "id": "890d0976",
   "metadata": {},
   "source": [
    "#### 10. Mary wants to run a 25-mile marathon. When she attempts to sign up for the marathon, she notices the sign-up sheet doesn't directly state the marathon's length. Instead, the marathon's length is listed in small, different portions. Help Mary find out how long the marathon actually is."
   ]
  },
  {
   "cell_type": "code",
   "execution_count": 1,
   "id": "5980402b",
   "metadata": {},
   "outputs": [],
   "source": [
    "def marathon_distance(l):\n",
    "    positive=[]\n",
    "    if l==[]:\n",
    "        return False\n",
    "    for num in l:\n",
    "        if num<0:\n",
    "            num=num*(-1)\n",
    "            positive.append(num)\n",
    "        else:\n",
    "            positive.append(num)\n",
    "    if sum(positive)==25:\n",
    "        return True\n",
    "    else:\n",
    "        return False"
   ]
  },
  {
   "cell_type": "code",
   "execution_count": 2,
   "id": "ba05a9be",
   "metadata": {},
   "outputs": [
    {
     "data": {
      "text/plain": [
       "False"
      ]
     },
     "execution_count": 2,
     "metadata": {},
     "output_type": "execute_result"
    }
   ],
   "source": [
    "marathon_distance([1, 2, 3, 4])"
   ]
  },
  {
   "cell_type": "code",
   "execution_count": 3,
   "id": "a513f1b4",
   "metadata": {},
   "outputs": [
    {
     "data": {
      "text/plain": [
       "True"
      ]
     },
     "execution_count": 3,
     "metadata": {},
     "output_type": "execute_result"
    }
   ],
   "source": [
    "marathon_distance([1, 9, 5, 8, 2])"
   ]
  },
  {
   "cell_type": "code",
   "execution_count": 4,
   "id": "0d9231e2",
   "metadata": {},
   "outputs": [
    {
     "data": {
      "text/plain": [
       "False"
      ]
     },
     "execution_count": 4,
     "metadata": {},
     "output_type": "execute_result"
    }
   ],
   "source": [
    "marathon_distance([])"
   ]
  },
  {
   "cell_type": "code",
   "execution_count": 5,
   "id": "8a8beb2a",
   "metadata": {},
   "outputs": [
    {
     "data": {
      "text/plain": [
       "True"
      ]
     },
     "execution_count": 5,
     "metadata": {},
     "output_type": "execute_result"
    }
   ],
   "source": [
    "marathon_distance([-6, 15, 4]) "
   ]
  },
  {
   "cell_type": "markdown",
   "id": "324ace3b",
   "metadata": {},
   "source": [
    "#### 11. Create a function that takes a number and returns True if the number is automorphic, False if it isn't."
   ]
  },
  {
   "cell_type": "code",
   "execution_count": 63,
   "id": "f44f9d82",
   "metadata": {},
   "outputs": [],
   "source": [
    "def automorphic_check(n):\n",
    "    a=n**2\n",
    "    b=str(a)\n",
    "    if int(b[-1])==n:\n",
    "        return True\n",
    "    else:\n",
    "        return False\n"
   ]
  },
  {
   "cell_type": "code",
   "execution_count": 66,
   "id": "14bcf78e",
   "metadata": {},
   "outputs": [
    {
     "data": {
      "text/plain": [
       "False"
      ]
     },
     "execution_count": 66,
     "metadata": {},
     "output_type": "execute_result"
    }
   ],
   "source": [
    "automorphic_check(2)"
   ]
  },
  {
   "cell_type": "code",
   "execution_count": 68,
   "id": "645d0236",
   "metadata": {},
   "outputs": [
    {
     "data": {
      "text/plain": [
       "True"
      ]
     },
     "execution_count": 68,
     "metadata": {},
     "output_type": "execute_result"
    }
   ],
   "source": [
    "automorphic_check(6)"
   ]
  },
  {
   "cell_type": "markdown",
   "id": "b637697f",
   "metadata": {},
   "source": [
    "#### 12) Create a function, that will take given a, b, c, and do the following:\n"
   ]
  },
  {
   "cell_type": "markdown",
   "id": "ba310896",
   "metadata": {},
   "source": [
    "Add a to itself b times and Check if the result is divisible by c. and return true if it is divisible by c or false"
   ]
  },
  {
   "cell_type": "code",
   "execution_count": 18,
   "id": "d14d7ecd",
   "metadata": {},
   "outputs": [],
   "source": [
    "def check(a,b,c):\n",
    "    new=[]\n",
    "    for num in range(b):\n",
    "        new.append(a)\n",
    "    if sum(new)%c==0:\n",
    "        return True\n",
    "    else:\n",
    "        return False"
   ]
  },
  {
   "cell_type": "code",
   "execution_count": 17,
   "id": "00ba6e6b",
   "metadata": {},
   "outputs": [
    {
     "data": {
      "text/plain": [
       "True"
      ]
     },
     "execution_count": 17,
     "metadata": {},
     "output_type": "execute_result"
    }
   ],
   "source": [
    "check(1,2,2)"
   ]
  },
  {
   "cell_type": "code",
   "execution_count": 19,
   "id": "be6ea364",
   "metadata": {
    "scrolled": true
   },
   "outputs": [
    {
     "data": {
      "text/plain": [
       "False"
      ]
     },
     "execution_count": 19,
     "metadata": {},
     "output_type": "execute_result"
    }
   ],
   "source": [
    "check(1,5,6)"
   ]
  },
  {
   "cell_type": "markdown",
   "id": "8caf9da3",
   "metadata": {},
   "source": [
    "#### 13) Create a function that changes specific words into emoticons. Given a sentence as a string, replace the words smile, grin, sad and mad with their corresponding emoticons"
   ]
  },
  {
   "cell_type": "code",
   "execution_count": 64,
   "id": "0cd6cbf7",
   "metadata": {},
   "outputs": [],
   "source": [
    "def emoticons(s):\n",
    "    sep=s.split()\n",
    "    dic={\"smile\":\":D\",\"grin\":\":)\",\"sad\":\":(\",\"mad\":\":P\"}\n",
    "    keys=dic.keys()\n",
    "    for items in sep:\n",
    "        if items in keys:\n",
    "            change=s.replace(items,dic[items])\n",
    "            print(change)"
   ]
  },
  {
   "cell_type": "code",
   "execution_count": 66,
   "id": "c29737ba",
   "metadata": {},
   "outputs": [
    {
     "name": "stdout",
     "output_type": "stream",
     "text": [
      "I am :(\n"
     ]
    }
   ],
   "source": [
    "emoticons(\"I am sad\")"
   ]
  },
  {
   "cell_type": "code",
   "execution_count": 70,
   "id": "e39236fa",
   "metadata": {},
   "outputs": [
    {
     "name": "stdout",
     "output_type": "stream",
     "text": [
      "I am :P at you\n"
     ]
    }
   ],
   "source": [
    "emoticons(\"I am mad at you\")"
   ]
  },
  {
   "cell_type": "code",
   "execution_count": 72,
   "id": "7701e720",
   "metadata": {},
   "outputs": [
    {
     "name": "stdout",
     "output_type": "stream",
     "text": [
      "She had a big :) on her face\n"
     ]
    }
   ],
   "source": [
    "emoticons(\"She had a big grin on her face\")"
   ]
  },
  {
   "cell_type": "code",
   "execution_count": 71,
   "id": "c612201c",
   "metadata": {},
   "outputs": [
    {
     "name": "stdout",
     "output_type": "stream",
     "text": [
      "I :D when I was with you\n"
     ]
    }
   ],
   "source": [
    "emoticons(\"I smile when I was with you\")"
   ]
  },
  {
   "cell_type": "markdown",
   "id": "d81af3c0",
   "metadata": {},
   "source": [
    "#### 14) Write a Python program to square and cube every number in a given list of integers using Lambda"
   ]
  },
  {
   "cell_type": "code",
   "execution_count": 14,
   "id": "9d8c07b1",
   "metadata": {},
   "outputs": [
    {
     "name": "stdout",
     "output_type": "stream",
     "text": [
      "Squares : [16, 4]\n",
      "Cubes : [64, 8]\n"
     ]
    }
   ],
   "source": [
    "li=[4,2]\n",
    "x=list(map(lambda x:x**2,li))\n",
    "y=list(map(lambda y:y**3,li))\n",
    "print(\"Squares : {}\".format(x))\n",
    "print(\"Cubes : {}\".format(y))"
   ]
  },
  {
   "cell_type": "markdown",
   "id": "f531e41a",
   "metadata": {},
   "source": [
    "#### 15) Write a Python program to check whether a given string is number or not using Lambda"
   ]
  },
  {
   "cell_type": "code",
   "execution_count": 35,
   "id": "88bf4caf",
   "metadata": {},
   "outputs": [
    {
     "data": {
      "text/plain": [
       "True"
      ]
     },
     "execution_count": 35,
     "metadata": {},
     "output_type": "execute_result"
    }
   ],
   "source": [
    "check=lambda s:s.isdigit()\n",
    "check(\"143\")"
   ]
  }
 ],
 "metadata": {
  "kernelspec": {
   "display_name": "Python 3 (ipykernel)",
   "language": "python",
   "name": "python3"
  },
  "language_info": {
   "codemirror_mode": {
    "name": "ipython",
    "version": 3
   },
   "file_extension": ".py",
   "mimetype": "text/x-python",
   "name": "python",
   "nbconvert_exporter": "python",
   "pygments_lexer": "ipython3",
   "version": "3.9.7"
  }
 },
 "nbformat": 4,
 "nbformat_minor": 5
}
